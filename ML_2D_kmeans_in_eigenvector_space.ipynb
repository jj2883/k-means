{
  "nbformat": 4,
  "nbformat_minor": 0,
  "metadata": {
    "colab": {
      "name": "ML_hw4_kmeans.ipynb",
      "version": "0.3.2",
      "provenance": [],
      "collapsed_sections": [],
      "include_colab_link": true
    },
    "kernelspec": {
      "name": "python3",
      "display_name": "Python 3"
    }
  },
  "cells": [
    {
      "cell_type": "markdown",
      "metadata": {
        "id": "view-in-github",
        "colab_type": "text"
      },
      "source": [
        "<a href=\"https://colab.research.google.com/github/jj2883/k-means/blob/master/ML_2D_kmeans_in_eigenvector_space.ipynb\" target=\"_parent\"><img src=\"https://colab.research.google.com/assets/colab-badge.svg\" alt=\"Open In Colab\"/></a>"
      ]
    },
    {
      "metadata": {
        "id": "my1Co1ONHPQF",
        "colab_type": "text"
      },
      "cell_type": "markdown",
      "source": [
        "# Q 1 c i Concentric"
      ]
    },
    {
      "metadata": {
        "id": "5nyUC7N50I90",
        "colab_type": "code",
        "colab": {}
      },
      "cell_type": "code",
      "source": [
        "import numpy as np\n",
        "import random\n",
        "\n",
        "def arg_key(aa):\n",
        "  return aa[1]\n",
        "\n",
        "\n",
        "\n",
        "\n",
        "\n",
        "\n",
        "def cluster_data(Data,  C ):\n",
        "  \n",
        "  #result = []\n",
        "  \n",
        "  result = {}\n",
        "  \n",
        "  \n",
        "  for data in Data:\n",
        "    \n",
        "#    print(len(C))\n",
        "    \n",
        "    #find the cluster data point belongs to  \n",
        "\n",
        "    #print(cluster_number)\n",
        "    \n",
        "    #https://stackoverflow.com/questions/18296755/python-max-function-using-key-and-lambda-expression\n",
        "    cluster_number = min(    [  (x[0],       np.linalg.norm(data - C[ x[0] ] ) ) for x in  enumerate(C) ]  , key=arg_key )[0]\n",
        "    \n",
        "    #result[0].append(data)\n",
        "    \n",
        "    #print(result)\n",
        "    \n",
        "    try:\n",
        "      result[cluster_number].append(data)\n",
        "\n",
        "    except KeyError:\n",
        "      \n",
        "      result[cluster_number] = [data]\n",
        "#      result[cluster_number] = list(data)      \n",
        " #     print(result[0])\n",
        "  return result\n",
        "\n",
        "\n",
        "def get_center(Data, C):\n",
        "  \n",
        "  result = []\n",
        "  \n",
        "  data_key = Data.keys()\n",
        "  data_key = sorted(data_key)\n",
        "  \n",
        "  #print(data_key)\n",
        "  for x in data_key:\n",
        "    \n",
        "    #print(x)\n",
        "    average = np.mean(Data[x], axis=0)\n",
        "    \n",
        "    #print(average)\n",
        "    \n",
        "    result.append(average)\n",
        "    \n",
        "  return result\n",
        "\n",
        "def check_update(C,  C1):\n",
        "\n",
        "  #  for x in C:\n",
        " #   return (set(C) == set(C1))\n",
        "#    print(C[0])\n",
        "#    print(C[0][0])\n",
        "#    print(C[0][1])\n",
        "\n",
        "    #print(C[0].all() == C1[0].all())\n",
        "#     print(C1)\n",
        "    #print(c1[0])\n",
        "#     print(C1[1])\n",
        "    \n",
        "    \n",
        "    if C[0][0] == C1[0][0] and C[0][1] == C1[0][1]and C[1][0] == C1[1][0]and C[1][1] == C1[1][1]:\n",
        "      return True\n",
        "    else:\n",
        "      return False\n",
        "    \n",
        "\n",
        "\n",
        "\n",
        "def k_means(Data, K):\n",
        "  \n",
        "\n",
        "    C1 = random.sample(Data, K)\n",
        "    \n",
        "    C = random.sample(Data, K)\n",
        "    \n",
        "    while not check_update(C, C1):\n",
        "      \n",
        "        C1 = C\n",
        "        \n",
        "        \n",
        "        clusterred = cluster_data(Data, C)\n",
        "        \n",
        "        \n",
        "        center = get_center( clusterred , C1)\n",
        "        \n",
        "    return(clusterred, center)\n",
        "\n",
        "\n",
        "\n"
      ],
      "execution_count": 0,
      "outputs": []
    },
    {
      "metadata": {
        "id": "Yq4fXCdk0Rp4",
        "colab_type": "code",
        "outputId": "b1b85257-86ce-4aab-9a40-2798d1adaba3",
        "colab": {
          "base_uri": "https://localhost:8080/",
          "height": 295
        }
      },
      "cell_type": "code",
      "source": [
        "\n",
        "from sklearn.datasets import make_circles, make_moons, make_blobs\n",
        "from matplotlib import pyplot\n",
        "from pandas import DataFrame\n",
        "# generate 2d classification dataset\n",
        "X, y = make_circles(n_samples=100, noise=0.05)\n",
        "# scatter plot, dots colored by class value\n",
        "df = DataFrame(dict(x=X[:,0], y=X[:,1], label=y))\n",
        "colors = {0:'red', 1:'blue'}\n",
        "fig, ax = pyplot.subplots()\n",
        "grouped = df.groupby('label')\n",
        "ax.set_title('Generated Concentric Circle Dataset')\n",
        "\n",
        "for key, group in grouped:\n",
        "    group.plot(ax=ax, kind='scatter', x='x', y='y', label=key, color=colors[key])\n",
        "pyplot.show()\n",
        "\n",
        "X_circ = X\n",
        "y_circ = y"
      ],
      "execution_count": 167,
      "outputs": [
        {
          "output_type": "display_data",
          "data": {
            "image/png": "[encoded data removed]",
            "text/plain": [
              "<Figure size 432x288 with 1 Axes>"
            ]
          },
          "metadata": {
            "tags": []
          }
        }
      ]
    },
    {
      "metadata": {
        "id": "gZsqZPkZFlYY",
        "colab_type": "code",
        "colab": {}
      },
      "cell_type": "code",
      "source": [
        "clusterred_data, center = k_means(list(X),2)\n",
        "\n"
      ],
      "execution_count": 0,
      "outputs": []
    },
    {
      "metadata": {
        "id": "UCF4fxrrFlcu",
        "colab_type": "code",
        "outputId": "b89033f7-4b08-4087-df41-5ffa91d771c8",
        "colab": {
          "base_uri": "https://localhost:8080/",
          "height": 281
        }
      },
      "cell_type": "code",
      "source": [
        "import matplotlib.pyplot as plt\n",
        "\n",
        "X1 = np.array(clusterred_data[0])\n",
        "X2 = np.array(clusterred_data[1])\n",
        "\n",
        "#print(X1)\n",
        "\n",
        "fig = plt.figure()\n",
        "ax1 = fig.add_subplot(111)\n",
        "\n",
        "ax1.set_title('Concentric Circle Dataset after K-Means')\n",
        "\n",
        "\n",
        "ax1.scatter(X1[:,0], X1[:,1], s=10, c='b', marker=\"s\", label='0')\n",
        "ax1.scatter(X2[:,0],X2[:,1], s=10, c='r', marker=\"o\", label='1')\n",
        "plt.legend(loc='upper left');\n",
        "plt.show()"
      ],
      "execution_count": 169,
      "outputs": [
        {
          "output_type": "display_data",
          "data": {
            "image/png": "[encoded data removed]",
            "text/plain": [
              "<Figure size 432x288 with 1 Axes>"
            ]
          },
          "metadata": {
            "tags": []
          }
        }
      ]
    },
    {
      "metadata": {
        "id": "ksQrgqSHFlfM",
        "colab_type": "code",
        "colab": {}
      },
      "cell_type": "code",
      "source": [
        ""
      ],
      "execution_count": 0,
      "outputs": []
    },
    {
      "metadata": {
        "id": "fBFQsMIDFlhs",
        "colab_type": "code",
        "colab": {}
      },
      "cell_type": "code",
      "source": [
        ""
      ],
      "execution_count": 0,
      "outputs": []
    },
    {
      "metadata": {
        "id": "a25DiQqyFllr",
        "colab_type": "code",
        "colab": {}
      },
      "cell_type": "code",
      "source": [
        ""
      ],
      "execution_count": 0,
      "outputs": []
    },
    {
      "metadata": {
        "id": "mnaR4zdUNjia",
        "colab_type": "text"
      },
      "cell_type": "markdown",
      "source": [
        "# Q1 c i Guassian Quantile"
      ]
    },
    {
      "metadata": {
        "id": "RGMO3HEdFla-",
        "colab_type": "code",
        "colab": {
          "base_uri": "https://localhost:8080/",
          "height": 68
        },
        "outputId": "38789bb2-55ef-4069-a631-873461faebf0"
      },
      "cell_type": "code",
      "source": [
        "X, y = make_gaussian_quantiles(mean=None, cov=1.0, n_samples=100, n_features=2, n_classes=2, shuffle=True, random_state=None)\n",
        "print(y)"
      ],
      "execution_count": 170,
      "outputs": [
        {
          "output_type": "stream",
          "text": [
            "[1 0 0 0 1 1 0 0 1 0 0 0 0 1 0 1 1 0 0 0 0 0 0 1 1 1 1 1 1 0 1 0 1 1 0 1 1\n",
            " 1 0 0 0 1 0 1 1 0 0 1 0 1 0 1 1 0 0 1 0 0 1 1 0 1 1 1 0 1 0 0 0 1 1 1 0 1\n",
            " 0 0 0 1 1 0 0 1 0 0 0 1 0 0 0 1 0 1 1 1 1 1 0 1 1 1]\n"
          ],
          "name": "stdout"
        }
      ]
    },
    {
      "metadata": {
        "id": "ussjLOLJ23c4",
        "colab_type": "code",
        "outputId": "f18efb6a-6113-49d0-cc5b-7b8ed6d54106",
        "colab": {
          "base_uri": "https://localhost:8080/",
          "height": 295
        }
      },
      "cell_type": "code",
      "source": [
        "from sklearn.datasets.samples_generator import make_gaussian_quantiles\n",
        "from matplotlib import pyplot\n",
        "from pandas import DataFrame\n",
        "# generate 2d classification dataset\n",
        "X, y = make_gaussian_quantiles(mean=None, cov=1.0, n_samples=100, n_features=2, n_classes=2, shuffle=True, random_state=None)\n",
        "\n",
        "#3ake_checkerboard(shape, n_clusters, noise=0.0, minval=10, maxval=100, shuffle=True, random_state=None)\n",
        "\n",
        "# scatter plot, dots colored by class value\n",
        "df = DataFrame(dict(x=X[:,0], y=X[:,1], label=y))\n",
        "colors = {0:'red', 1:'blue'}\n",
        "fig, ax = pyplot.subplots()\n",
        "grouped = df.groupby('label')\n",
        "ax.set_title('Generated Quantile Gaussian Dataset')\n",
        "\n",
        "for key, group in grouped:\n",
        "    group.plot(ax=ax, kind='scatter', x='x', y='y', label=key, color=colors[key])\n",
        "pyplot.show()\n",
        "\n",
        "X_gauss = X\n",
        "y_gauss = y"
      ],
      "execution_count": 171,
      "outputs": [
        {
          "output_type": "display_data",
          "data": {
            "image/png": "[encoded data removed]",
            "text/plain": [
              "<Figure size 432x288 with 1 Axes>"
            ]
          },
          "metadata": {
            "tags": []
          }
        }
      ]
    },
    {
      "metadata": {
        "colab_type": "code",
        "id": "HDYwFS5_F_Vv",
        "colab": {}
      },
      "cell_type": "code",
      "source": [
        "clusterred_data, center = k_means(list(X),2)"
      ],
      "execution_count": 0,
      "outputs": []
    },
    {
      "metadata": {
        "colab_type": "code",
        "outputId": "549ae1b1-7f5c-43a5-c108-8c2a79a4aa58",
        "id": "Y0TEtfW7F_V2",
        "colab": {
          "base_uri": "https://localhost:8080/",
          "height": 281
        }
      },
      "cell_type": "code",
      "source": [
        "import matplotlib.pyplot as plt\n",
        "\n",
        "X1 = np.array(clusterred_data[0])\n",
        "X2 = np.array(clusterred_data[1])\n",
        "fig = plt.figure()\n",
        "ax1 = fig.add_subplot(111)\n",
        "ax1.set_title('Quantile Gaussian Dataset after K-Means')\n",
        "\n",
        "ax1.scatter(X1[:,0], X1[:,1], s=10, c='b', marker=\"s\", label='0')\n",
        "ax1.scatter(X2[:,0],X2[:,1], s=10, c='r', marker=\"o\", label='1')\n",
        "plt.legend(loc='upper left');\n",
        "plt.show()"
      ],
      "execution_count": 173,
      "outputs": [
        {
          "output_type": "display_data",
          "data": {
            "image/png": "[encoded data removed]",
            "text/plain": [
              "<Figure size 432x288 with 1 Axes>"
            ]
          },
          "metadata": {
            "tags": []
          }
        }
      ]
    },
    {
      "metadata": {
        "id": "Arn9E_jlF-54",
        "colab_type": "code",
        "colab": {}
      },
      "cell_type": "code",
      "source": [
        ""
      ],
      "execution_count": 0,
      "outputs": []
    },
    {
      "metadata": {
        "id": "TvxaZFISF-9N",
        "colab_type": "code",
        "colab": {}
      },
      "cell_type": "code",
      "source": [
        ""
      ],
      "execution_count": 0,
      "outputs": []
    },
    {
      "metadata": {
        "id": "HpbLs8h9Nroi",
        "colab_type": "text"
      },
      "cell_type": "markdown",
      "source": [
        "# Q1 c i moons"
      ]
    },
    {
      "metadata": {
        "id": "GRBxYRfy0RuG",
        "colab_type": "code",
        "outputId": "850dfb2b-ab6d-4563-cb71-4f0a795170e0",
        "colab": {
          "base_uri": "https://localhost:8080/",
          "height": 295
        }
      },
      "cell_type": "code",
      "source": [
        "\n",
        "from sklearn.datasets import make_moons\n",
        "from matplotlib import pyplot\n",
        "from pandas import DataFrame\n",
        "# generate 2d classification dataset\n",
        "X, y = make_moons(n_samples=100, noise=0.1)\n",
        "# scatter plot, dots colored by class value\n",
        "df = DataFrame(dict(x=X[:,0], y=X[:,1], label=y))\n",
        "colors = {0:'red', 1:'blue'}\n",
        "fig, ax = pyplot.subplots()\n",
        "grouped = df.groupby('label')\n",
        "ax.set_title('Generated Moon Dataset')\n",
        "\n",
        "for key, group in grouped:\n",
        "    group.plot(ax=ax, kind='scatter', x='x', y='y', label=key, color=colors[key])\n",
        "pyplot.show()\n",
        "\n",
        "X_moon = X\n",
        "y_moon = y"
      ],
      "execution_count": 174,
      "outputs": [
        {
          "output_type": "display_data",
          "data": {
            "image/png": "[encoded data removed]",
            "text/plain": [
              "<Figure size 432x288 with 1 Axes>"
            ]
          },
          "metadata": {
            "tags": []
          }
        }
      ]
    },
    {
      "metadata": {
        "colab_type": "code",
        "id": "6m97Z-IBG-aC",
        "colab": {}
      },
      "cell_type": "code",
      "source": [
        "clusterred_data, center = k_means(list(X),2)"
      ],
      "execution_count": 0,
      "outputs": []
    },
    {
      "metadata": {
        "colab_type": "code",
        "outputId": "34797c34-6051-4d23-8758-3190f0ffbfd9",
        "id": "jdK5L3-4G-aO",
        "colab": {
          "base_uri": "https://localhost:8080/",
          "height": 281
        }
      },
      "cell_type": "code",
      "source": [
        "import matplotlib.pyplot as plt\n",
        "\n",
        "X1 = np.array(clusterred_data[0])\n",
        "X2 = np.array(clusterred_data[1])\n",
        "fig = plt.figure()\n",
        "ax1 = fig.add_subplot(111)\n",
        "ax1.set_title('Moon Dataset after K-Means')\n",
        "\n",
        "ax1.scatter(X1[:,0], X1[:,1], s=10, c='b', marker=\"s\", label='0')\n",
        "ax1.scatter(X2[:,0],X2[:,1], s=10, c='r', marker=\"o\", label='1')\n",
        "plt.legend(loc='upper left');\n",
        "plt.show()"
      ],
      "execution_count": 176,
      "outputs": [
        {
          "output_type": "display_data",
          "data": {
            "image/png": "[encoded data removed]",
            "text/plain": [
              "<Figure size 432x288 with 1 Axes>"
            ]
          },
          "metadata": {
            "tags": []
          }
        }
      ]
    },
    {
      "metadata": {
        "id": "S2rgEQAw83yA",
        "colab_type": "code",
        "colab": {}
      },
      "cell_type": "code",
      "source": [
        "from numpy import linalg as LA\n",
        "\n",
        "r =5\n",
        "n = 100\n",
        "\n",
        "##dataset = X\n",
        "\n",
        "def eig_transform(dataset,r):\n",
        "  r =r\n",
        "\n",
        "  distance_mat = np.zeros((n,n))\n",
        "  for j in range(n):\n",
        "\n",
        "    for i in range(n):\n",
        "      dist = np.linalg.norm(dataset[j]-dataset[i])\n",
        "\n",
        "      distance_mat[j,i]=dist\n",
        "\n",
        "\n",
        "  W = np.zeros((n,n))\n",
        "\n",
        "  for i in range(n):\n",
        "    a = distance_mat[i,:]\n",
        "    ind = np.argpartition(a, -r)[-r:]\n",
        "\n",
        "    for j in ind:\n",
        "      W[i,j] =1\n",
        "\n",
        "\n",
        "\n",
        "\n",
        "  D=np.zeros((n,n))\n",
        "\n",
        "  np.fill_diagonal(D, r)    \n",
        "\n",
        "\n",
        "  L = D - W\n",
        "\n",
        "\n",
        "\n",
        "\n",
        "  eigval, eigvec = LA.eig(L)\n",
        "\n",
        "\n",
        "  idx_small = np.argpartition(np.absolute(eigval), 2)\n",
        "  idx_small = idx_small[0:2]\n",
        "\n",
        "  eigvec=abs(eigvec)\n",
        "  x1 = eigvec[:,(idx_small[0:2])]\n",
        "  return x1"
      ],
      "execution_count": 0,
      "outputs": []
    },
    {
      "metadata": {
        "id": "vSV_jOdXG2LH",
        "colab_type": "code",
        "colab": {}
      },
      "cell_type": "code",
      "source": [
        "# print(trans_moon)\n",
        "#print(clusterred_trans_moon[0][1])\n",
        "\n",
        "def find_ind(trans, clusterred_trans):\n",
        "  indices_zero = []\n",
        "  indices_one =[]\n",
        "  for i, elem_og in enumerate(trans):\n",
        "    #print(elem_og[0])\n",
        "\n",
        "    for ii,elem_trans in enumerate(clusterred_trans[0]):\n",
        "      #print(elem_trans)\n",
        "      if elem_og[0]==elem_trans[0] and elem_og[1]==elem_trans[1]:\n",
        "          indices_zero.append(i)\n",
        "          \n",
        "  for i, elem_og in enumerate(trans):\n",
        "    #print(elem_og[0])\n",
        "\n",
        "    for ii,elem_trans in enumerate(clusterred_trans[1]):\n",
        "      #print(elem_trans)\n",
        "      if elem_og[0]==elem_trans[0] and elem_og[1]==elem_trans[1]:\n",
        "          indices_one.append(i)\n",
        "  return indices_zero, indices_one"
      ],
      "execution_count": 0,
      "outputs": []
    },
    {
      "metadata": {
        "id": "_VJ7b74TG2OB",
        "colab_type": "code",
        "colab": {}
      },
      "cell_type": "code",
      "source": [
        "r=90\n",
        "\n",
        "trans_moon =eig_transform(X_moon,r)\n",
        "trans_gauss =eig_transform(X_gauss,r)\n",
        "trans_circ =eig_transform(X_circ,r)"
      ],
      "execution_count": 0,
      "outputs": []
    },
    {
      "metadata": {
        "id": "DBFyhAi15bBs",
        "colab_type": "code",
        "colab": {}
      },
      "cell_type": "code",
      "source": [
        "clusterred_trans_moon, center = k_means(list(trans_moon),2)\n",
        "clusterred_trans_gauss, center = k_means(list(trans_gauss),2)\n",
        "clusterred_trans_circ, center = k_means(list(trans_circ),2)"
      ],
      "execution_count": 0,
      "outputs": []
    },
    {
      "metadata": {
        "id": "T-5hYspJ-GVP",
        "colab_type": "code",
        "colab": {}
      },
      "cell_type": "code",
      "source": [
        "#print(len(clusterred_data[1]))"
      ],
      "execution_count": 0,
      "outputs": []
    },
    {
      "metadata": {
        "id": "9afy0Mx2-Ggc",
        "colab_type": "code",
        "colab": {}
      },
      "cell_type": "code",
      "source": [
        ""
      ],
      "execution_count": 0,
      "outputs": []
    },
    {
      "metadata": {
        "id": "L3oau4nk5bFu",
        "colab_type": "code",
        "colab": {
          "base_uri": "https://localhost:8080/",
          "height": 281
        },
        "outputId": "e1bdcd61-3404-43ce-f91b-a2700588dfdf"
      },
      "cell_type": "code",
      "source": [
        "X1 = np.array(clusterred_trans_moon[0])\n",
        "X2 = np.array(clusterred_trans_moon[1])\n",
        "fig = plt.figure()\n",
        "ax1 = fig.add_subplot(111)\n",
        "\n",
        "ax1.scatter(X1[:,0], X1[:,1], s=10, c='b', marker=\"s\", label='0')\n",
        "ax1.scatter(X2[:,0],X2[:,1], s=10, c='r', marker=\"o\", label='1')\n",
        "ax1.set_title('Moon Dataset in 2 Lowest Eigenvector Space, r=90 ')\n",
        "plt.legend(loc='upper left');\n",
        "plt.show()"
      ],
      "execution_count": 226,
      "outputs": [
        {
          "output_type": "display_data",
          "data": {
            "image/png": "[encoded data removed]",
            "text/plain": [
              "<Figure size 432x288 with 1 Axes>"
            ]
          },
          "metadata": {
            "tags": []
          }
        }
      ]
    },
    {
      "metadata": {
        "id": "mZr08PZvH3tS",
        "colab_type": "code",
        "colab": {
          "base_uri": "https://localhost:8080/",
          "height": 281
        },
        "outputId": "b43907e4-c1f1-464a-ed8a-4a00ff282d28"
      },
      "cell_type": "code",
      "source": [
        "X1 = np.array(clusterred_trans_gauss[0])\n",
        "X2 = np.array(clusterred_trans_gauss[1])\n",
        "fig = plt.figure()\n",
        "ax1 = fig.add_subplot(111)\n",
        "\n",
        "ax1.scatter(X1[:,0], X1[:,1], s=10, c='b', marker=\"s\", label='0')\n",
        "ax1.scatter(X2[:,0],X2[:,1], s=10, c='r', marker=\"o\", label='1')\n",
        "ax1.set_title('Quantile Gauss Dataset in 2 Lowest Eigenvector Space, r=90')\n",
        "\n",
        "plt.legend(loc='upper left');\n",
        "plt.show()"
      ],
      "execution_count": 227,
      "outputs": [
        {
          "output_type": "display_data",
          "data": {
            "image/png": "[encoded data removed]",
            "text/plain": [
              "<Figure size 432x288 with 1 Axes>"
            ]
          },
          "metadata": {
            "tags": []
          }
        }
      ]
    },
    {
      "metadata": {
        "id": "2fv1QwbKH3v4",
        "colab_type": "code",
        "colab": {
          "base_uri": "https://localhost:8080/",
          "height": 281
        },
        "outputId": "fd043c44-a46d-4427-f4ce-8c0a3ba9e428"
      },
      "cell_type": "code",
      "source": [
        "X1 = np.array(clusterred_trans_circ[0])\n",
        "X2 = np.array(clusterred_trans_circ[1])\n",
        "fig = plt.figure()\n",
        "ax1 = fig.add_subplot(111)\n",
        "\n",
        "ax1.scatter(X1[:,0], X1[:,1], s=10, c='b', marker=\"s\", label='0')\n",
        "ax1.scatter(X2[:,0],X2[:,1], s=10, c='r', marker=\"o\", label='1')\n",
        "ax1.set_title('Concentric Circle Dataset in 2 Lowest Eigenvector Space, r=90')\n",
        "\n",
        "plt.legend(loc='upper left');\n",
        "plt.show()"
      ],
      "execution_count": 228,
      "outputs": [
        {
          "output_type": "display_data",
          "data": {
            "image/png": "[encoded data removed]",
            "text/plain": [
              "<Figure size 432x288 with 1 Axes>"
            ]
          },
          "metadata": {
            "tags": []
          }
        }
      ]
    },
    {
      "metadata": {
        "id": "WtdZ98ICH3yW",
        "colab_type": "code",
        "colab": {}
      },
      "cell_type": "code",
      "source": [
        "\n",
        "#print(trans_gauss)\n",
        "#print(clusterred_trans_gauss)\n",
        "\n",
        "gauss_idx_zero, gauss_idx_one = find_ind(trans_gauss, clusterred_trans_gauss)\n",
        "\n",
        "#print(trans_gauss)\n",
        "\n",
        "# print(trans_moon)\n",
        "#print(clusterred_trans_moon[0][1])"
      ],
      "execution_count": 0,
      "outputs": []
    },
    {
      "metadata": {
        "id": "o350liktH31Q",
        "colab_type": "code",
        "colab": {}
      },
      "cell_type": "code",
      "source": [
        "indices_zero_gauss = []\n",
        "indices_one_gauss =[]\n",
        "for i, elem_og in enumerate(trans_gauss):\n",
        "  #print(elem_og[0])\n",
        "\n",
        "  for ii,elem_trans in enumerate(clusterred_trans_gauss[0]):\n",
        "    #print(elem_trans)\n",
        "    if elem_og[0]==elem_trans[0] and elem_og[1]==elem_trans[1]:\n",
        "        indices_zero_gauss.append(i)\n",
        "\n",
        "for i, elem_og in enumerate(trans_gauss):\n",
        "  #print(elem_og[0])\n",
        "\n",
        "  for ii,elem_trans in enumerate(clusterred_trans_gauss[1]):\n",
        "    #print(elem_trans)\n",
        "    if elem_og[0]==elem_trans[0] and elem_og[1]==elem_trans[1]:\n",
        "        indices_one_gauss.append(i)\n",
        "        \n",
        "        \n",
        "indices_zero_moon = []\n",
        "indices_one_moon =[]\n",
        "for i, elem_og in enumerate(trans_moon):\n",
        "  #print(elem_og[0])\n",
        "\n",
        "  for ii,elem_trans in enumerate(clusterred_trans_moon[0]):\n",
        "    #print(elem_trans)\n",
        "    if elem_og[0]==elem_trans[0] and elem_og[1]==elem_trans[1]:\n",
        "        indices_zero_moon.append(i)\n",
        "\n",
        "for i, elem_og in enumerate(trans_moon):\n",
        "  #print(elem_og[0])\n",
        "\n",
        "  for ii,elem_trans in enumerate(clusterred_trans_moon[1]):\n",
        "    #print(elem_trans)\n",
        "    if elem_og[0]==elem_trans[0] and elem_og[1]==elem_trans[1]:\n",
        "        indices_one_moon.append(i)\n",
        "        \n",
        "indices_zero_circ = []\n",
        "indices_one_circ =[]\n",
        "for i, elem_og in enumerate(trans_circ):\n",
        "  #print(elem_og[0])\n",
        "\n",
        "  for ii,elem_trans in enumerate(clusterred_trans_circ[0]):\n",
        "    #print(elem_trans)\n",
        "    if elem_og[0]==elem_trans[0] and elem_og[1]==elem_trans[1]:\n",
        "        indices_zero_circ.append(i)\n",
        "\n",
        "for i, elem_og in enumerate(trans_circ):\n",
        "  #print(elem_og[0])\n",
        "\n",
        "  for ii,elem_trans in enumerate(clusterred_trans_circ[1]):\n",
        "    #print(elem_trans)\n",
        "    if elem_og[0]==elem_trans[0] and elem_og[1]==elem_trans[1]:\n",
        "        indices_one_circ.append(i)        "
      ],
      "execution_count": 0,
      "outputs": []
    },
    {
      "metadata": {
        "id": "yZjwLsYbH36n",
        "colab_type": "code",
        "colab": {
          "base_uri": "https://localhost:8080/",
          "height": 281
        },
        "outputId": "26ba03d4-d464-498d-d616-c607ffa4f236"
      },
      "cell_type": "code",
      "source": [
        "x1 = []\n",
        "x2 = []\n",
        "for qq in indices_zero_circ:\n",
        "  x1.append(X_circ[qq])\n",
        "for ww in indices_one_circ:\n",
        "  x2.append(X_circ[ww])\n",
        "\n",
        "  \n",
        "x1 = np.array(x1)  \n",
        "x2 = np.array(x2)\n",
        "\n",
        "\n",
        "X1 = x1\n",
        "X2 = x2\n",
        "fig = plt.figure()\n",
        "ax1 = fig.add_subplot(111)\n",
        "\n",
        "ax1.scatter(X1[:,0], X1[:,1], s=10, c='b', marker=\"s\", label='0')\n",
        "ax1.scatter(X2[:,0],X2[:,1], s=10, c='r', marker=\"o\", label='1')\n",
        "ax1.set_title('(K-mean in Vectorspace) Concentric Circle Dataset in Original Space, r=90')\n",
        "\n",
        "plt.legend(loc='upper left');\n",
        "plt.show()"
      ],
      "execution_count": 231,
      "outputs": [
        {
          "output_type": "display_data",
          "data": {
            "image/png": "[encoded data removed]",
            "text/plain": [
              "<Figure size 432x288 with 1 Axes>"
            ]
          },
          "metadata": {
            "tags": []
          }
        }
      ]
    },
    {
      "metadata": {
        "id": "4uroAmQVWYfm",
        "colab_type": "code",
        "colab": {
          "base_uri": "https://localhost:8080/",
          "height": 281
        },
        "outputId": "aa4fbf7a-c1f9-4660-d0aa-1c76b15cb705"
      },
      "cell_type": "code",
      "source": [
        "x1 = []\n",
        "x2 = []\n",
        "for qq in indices_zero_moon:\n",
        "  x1.append(X_moon[qq])\n",
        "for ww in indices_one_moon:\n",
        "  x2.append(X_moon[ww])\n",
        "\n",
        "  \n",
        "x1 = np.array(x1)  \n",
        "x2 = np.array(x2)\n",
        "\n",
        "\n",
        "X1 = x1\n",
        "X2 = x2\n",
        "fig = plt.figure()\n",
        "ax1 = fig.add_subplot(111)\n",
        "\n",
        "ax1.scatter(X1[:,0], X1[:,1], s=10, c='b', marker=\"s\", label='0')\n",
        "ax1.scatter(X2[:,0],X2[:,1], s=10, c='r', marker=\"o\", label='1')\n",
        "ax1.set_title('(K-mean in Vectorspace) Moon Dataset in Original Space, r=90')\n",
        "\n",
        "plt.legend(loc='upper left');\n",
        "plt.show()"
      ],
      "execution_count": 232,
      "outputs": [
        {
          "output_type": "display_data",
          "data": {
            "image/png": "[encoded data removed]",
            "text/plain": [
              "<Figure size 432x288 with 1 Axes>"
            ]
          },
          "metadata": {
            "tags": []
          }
        }
      ]
    },
    {
      "metadata": {
        "id": "ua7QOc2gWYiY",
        "colab_type": "code",
        "colab": {
          "base_uri": "https://localhost:8080/",
          "height": 281
        },
        "outputId": "2ca08b2f-5d43-4f66-d6eb-c6bef7c23e85"
      },
      "cell_type": "code",
      "source": [
        "x1 = []\n",
        "x2 = []\n",
        "for qq in indices_zero_gauss:\n",
        "  x1.append(X_gauss[qq])\n",
        "for ww in indices_one_gauss:\n",
        "  x2.append(X_gauss[ww])\n",
        "\n",
        "  \n",
        "x1 = np.array(x1)  \n",
        "x2 = np.array(x2)\n",
        "\n",
        "\n",
        "X1 = x1\n",
        "X2 = x2\n",
        "fig = plt.figure()\n",
        "ax1 = fig.add_subplot(111)\n",
        "\n",
        "ax1.scatter(X1[:,0], X1[:,1], s=10, c='b', marker=\"s\", label='0')\n",
        "ax1.scatter(X2[:,0],X2[:,1], s=10, c='r', marker=\"o\", label='1')\n",
        "ax1.set_title('(K-mean in Vectorspace) Quantile Gaussian Dataset in Original Space, r=90')\n",
        "\n",
        "plt.legend(loc='upper left');\n",
        "plt.show()"
      ],
      "execution_count": 233,
      "outputs": [
        {
          "output_type": "display_data",
          "data": {
            "image/png": "[encoded data removed]",
            "text/plain": [
              "<Figure size 432x288 with 1 Axes>"
            ]
          },
          "metadata": {
            "tags": []
          }
        }
      ]
    },
    {
      "metadata": {
        "id": "60ZrK2TfWYlF",
        "colab_type": "code",
        "colab": {}
      },
      "cell_type": "code",
      "source": [
        ""
      ],
      "execution_count": 0,
      "outputs": []
    },
    {
      "metadata": {
        "id": "j6JUNamQWYpE",
        "colab_type": "code",
        "colab": {}
      },
      "cell_type": "code",
      "source": [
        ""
      ],
      "execution_count": 0,
      "outputs": []
    },
    {
      "metadata": {
        "id": "f_2hh_NXWYd3",
        "colab_type": "code",
        "colab": {}
      },
      "cell_type": "code",
      "source": [
        ""
      ],
      "execution_count": 0,
      "outputs": []
    }
  ]
}